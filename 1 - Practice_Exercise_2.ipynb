{
 "cells": [
  {
   "cell_type": "markdown",
   "metadata": {},
   "source": [
    "1. Ask user to enter a string and check that it is made up only alphabets:"
   ]
  },
  {
   "cell_type": "code",
   "execution_count": 3,
   "metadata": {},
   "outputs": [
    {
     "name": "stdout",
     "output_type": "stream",
     "text": [
      "The string contains non-alphabet characters.\n"
     ]
    }
   ],
   "source": [
    "def check_alphabet():\n",
    "    user_input = input(\"Enter a string: \")\n",
    "    if user_input.isalpha():\n",
    "        print(\"The string is made up only of alphabets.\")\n",
    "    else:\n",
    "        print(\"The string contains non-alphabet characters.\")\n",
    "\n",
    "check_alphabet()"
   ]
  },
  {
   "cell_type": "markdown",
   "metadata": {},
   "source": [
    "2. Now, make sure that the string is made up of both alphabets and numbers:\n",
    "\n",
    "TRY using isalnum() function and then entering only alhpabets in the string and see what happens."
   ]
  },
  {
   "cell_type": "code",
   "execution_count": 1,
   "metadata": {},
   "outputs": [
    {
     "name": "stdout",
     "output_type": "stream",
     "text": [
      "The string does not contain both alphabets and numbers.\n"
     ]
    }
   ],
   "source": [
    "user_input = input(\"Please enter a string made up of both alphabets and numbers: \")\n",
    "\n",
    "if user_input.isalnum():\n",
    "    contains_alpha = any(char.isalpha() for char in user_input)\n",
    "    contains_digit = any(char.isdigit() for char in user_input)\n",
    "    \n",
    "    if contains_alpha and contains_digit:\n",
    "        print(\"The string contains both alphabets and numbers.\")\n",
    "    else:\n",
    "        print(\"The string contains only alphabets or only numbers, but not both.\")\n",
    "else:\n",
    "    print(\"The string contains special characters, which are not allowed.\")"
   ]
  },
  {
   "cell_type": "markdown",
   "metadata": {},
   "source": [
    "3. Now, make sure that the string is made up of both alphabets and at least one number:\n"
   ]
  },
  {
   "cell_type": "code",
   "execution_count": 4,
   "metadata": {},
   "outputs": [
    {
     "name": "stdout",
     "output_type": "stream",
     "text": [
      "The string contains both alphabets and at least one number.\n"
     ]
    }
   ],
   "source": [
    "user_input = input(\"Please enter a string containing both alphabets and at least one number: \")\n",
    "contains_alpha = any(char.isalpha() for char in user_input)\n",
    "contains_digit = any(char.isdigit() for char in user_input)\n",
    "if contains_alpha and contains_digit:\n",
    "    print(\"The string contains both alphabets and at least one number.\")\n",
    "else:\n",
    "    print(\"The string does not contain both alphabets and numbers.\")"
   ]
  },
  {
   "cell_type": "markdown",
   "metadata": {},
   "source": []
  },
  {
   "cell_type": "markdown",
   "metadata": {},
   "source": [
    "4. Now, make sure that the string is made up of both alphabets, at least one number, and at least one special character:"
   ]
  },
  {
   "cell_type": "code",
   "execution_count": 5,
   "metadata": {},
   "outputs": [
    {
     "name": "stdout",
     "output_type": "stream",
     "text": [
      "The string contains alphabets, at least one number, and at least one special character.\n"
     ]
    }
   ],
   "source": [
    "user_input = input(\"Please enter a string containing alphabets, at least one number, and at least one special character: \")\n",
    "contains_alpha = any(char.isalpha() for char in user_input)\n",
    "contains_digit = any(char.isdigit() for char in user_input)\n",
    "contains_special = any(not char.isalnum() for char in user_input)\n",
    "\n",
    "if contains_alpha and contains_digit and contains_special:\n",
    "    print(\"The string contains alphabets, at least one number, and at least one special character.\")\n",
    "else:\n",
    "    print(\"The string does not meet the required criteria.\")\n"
   ]
  },
  {
   "cell_type": "markdown",
   "metadata": {},
   "source": [
    "5. Now, modify the above code so that if the user enters an invalid string, the program should ask the user to enter another string again, and keep asking until a valid string has been entered."
   ]
  },
  {
   "cell_type": "code",
   "execution_count": null,
   "metadata": {},
   "outputs": [],
   "source": [
    "def is_valid_string(user_input):\n",
    "    contains_alpha = any(char.isalpha() for char in user_input)\n",
    "    contains_digit = any(char.isdigit() for char in user_input)\n",
    "    return contains_alpha and contains_digit and contains_special\n",
    "\n",
    "while True:\n",
    "    user_input = input(\"Please enter a string containing alphabets, at least one number, and at least one special character: \")\n",
    "    \n",
    "    if is_valid_string(user_input):\n",
    "        print(\"The string contains alphabets, at least one number, and at least one special character.\")\n",
    "        break\n",
    "    else:\n",
    "        print(\"The string does not meet the required criteria. Please try again.\")"
   ]
  }
 ],
 "metadata": {
  "kernelspec": {
   "display_name": "Python 3",
   "language": "python",
   "name": "python3"
  },
  "language_info": {
   "codemirror_mode": {
    "name": "ipython",
    "version": 3
   },
   "file_extension": ".py",
   "mimetype": "text/x-python",
   "name": "python",
   "nbconvert_exporter": "python",
   "pygments_lexer": "ipython3",
   "version": "3.12.5"
  }
 },
 "nbformat": 4,
 "nbformat_minor": 2
}
