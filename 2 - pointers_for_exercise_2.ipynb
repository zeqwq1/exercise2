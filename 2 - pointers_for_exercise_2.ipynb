{
 "cells": [
  {
   "cell_type": "markdown",
   "metadata": {},
   "source": [
    "enumerate() method: "
   ]
  },
  {
   "cell_type": "code",
   "execution_count": 1,
   "metadata": {},
   "outputs": [
    {
     "name": "stdout",
     "output_type": "stream",
     "text": [
      "Index: 0, Character: H\n",
      "Index: 1, Character: o\n",
      "Index: 2, Character: w\n",
      "Index: 3, Character: l\n",
      "Index: 4, Character: '\n",
      "Index: 5, Character: s\n",
      "Index: 6, Character:  \n",
      "Index: 7, Character: M\n",
      "Index: 8, Character: o\n",
      "Index: 9, Character: v\n",
      "Index: 10, Character: i\n",
      "Index: 11, Character: n\n",
      "Index: 12, Character: g\n",
      "Index: 13, Character:  \n",
      "Index: 14, Character: C\n",
      "Index: 15, Character: a\n",
      "Index: 16, Character: s\n",
      "Index: 17, Character: t\n",
      "Index: 18, Character: l\n",
      "Index: 19, Character: e\n"
     ]
    }
   ],
   "source": [
    "str1 = \"Howl's Moving Castle\"\n",
    "\n",
    "for index, char in enumerate(str1):\n",
    "    print(f\"Index: {index}, Character: {char}\")\n"
   ]
  },
  {
   "cell_type": "markdown",
   "metadata": {},
   "source": [
    "join() method:"
   ]
  },
  {
   "cell_type": "code",
   "execution_count": 1,
   "metadata": {},
   "outputs": [
    {
     "name": "stdout",
     "output_type": "stream",
     "text": [
      "Baa baa black sheep\n"
     ]
    }
   ],
   "source": [
    "some_list = ['Baa', 'baa', 'black', 'sheep']\n",
    "\n",
    "result = ' '.join(some_list)\n",
    "\n",
    "print(result)"
   ]
  },
  {
   "cell_type": "markdown",
   "metadata": {},
   "source": [
    "random() method:"
   ]
  },
  {
   "cell_type": "code",
   "execution_count": 2,
   "metadata": {},
   "outputs": [
    {
     "name": "stdout",
     "output_type": "stream",
     "text": [
      "baa\n"
     ]
    }
   ],
   "source": [
    "import random\n",
    "\n",
    "some_list = ['Baa', 'baa', 'black', 'sheep']\n",
    "\n",
    "random_item = random.choice(some_list)\n",
    "\n",
    "print(random_item)"
   ]
  }
 ],
 "metadata": {
  "kernelspec": {
   "display_name": "Python 3",
   "language": "python",
   "name": "python3"
  },
  "language_info": {
   "codemirror_mode": {
    "name": "ipython",
    "version": 3
   },
   "file_extension": ".py",
   "mimetype": "text/x-python",
   "name": "python",
   "nbconvert_exporter": "python",
   "pygments_lexer": "ipython3",
   "version": "3.12.5"
  }
 },
 "nbformat": 4,
 "nbformat_minor": 2
}
